{
 "cells": [
  {
   "cell_type": "code",
   "execution_count": null,
   "metadata": {},
   "outputs": [],
   "source": [
    "import pandas as pd"
   ]
  },
  {
   "cell_type": "code",
   "execution_count": null,
   "metadata": {},
   "outputs": [],
   "source": [
    "data = pd.read_csv(\"./final.csv\")\n",
    "data.head()"
   ]
  },
  {
   "cell_type": "code",
   "execution_count": null,
   "metadata": {},
   "outputs": [],
   "source": [
    "import seaborn as sns\n",
    "import matplotlib.pyplot as plt\n",
    "\n",
    "# Calculate case score\n",
    "data['case score'] = data.apply(lambda row: 0 if row['time/us'] == -1 else 100 * row['time/us'] / row['best time/us'], axis=1)\n",
    "\n",
    "# Calculate the final average score\n",
    "average_score = data['case score'].mean()\n",
    "\n",
    "# Set up a Seaborn plot with a beautiful style\n",
    "sns.set(style=\"whitegrid\")\n",
    "plt.figure(figsize=(10, 8))\n",
    "\n",
    "# Plot the case scores\n",
    "sns.barplot(x='case score', y='case', data=data, palette='coolwarm')\n",
    "\n",
    "# Add a title and labels\n",
    "plt.title('Case Scores with Final Average', fontsize=16)\n",
    "plt.axvline(average_score, color='red', linestyle='--', label=f'Average Score: {average_score:.2f}')\n",
    "plt.legend()\n",
    "plt.xlabel('Case Score')\n",
    "plt.ylabel('Case')\n",
    "\n",
    "# Show the plot\n",
    "plt.tight_layout()\n",
    "plt.show()\n"
   ]
  }
 ],
 "metadata": {
  "language_info": {
   "name": "python"
  }
 },
 "nbformat": 4,
 "nbformat_minor": 2
}
